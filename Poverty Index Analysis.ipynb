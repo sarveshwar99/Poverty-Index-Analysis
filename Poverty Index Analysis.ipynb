{
 "cells": [
  {
   "cell_type": "markdown",
   "metadata": {},
   "source": [
    "## Loading Required Packages"
   ]
  },
  {
   "cell_type": "code",
   "execution_count": 21,
   "metadata": {},
   "outputs": [],
   "source": [
    "import pandas as pd\n",
    "import numpy as np\n",
    "from collections import Counter\n",
    "import matplotlib.pyplot as plt"
   ]
  },
  {
   "cell_type": "markdown",
   "metadata": {},
   "source": [
    "## Loading the datasets"
   ]
  },
  {
   "cell_type": "code",
   "execution_count": 22,
   "metadata": {},
   "outputs": [],
   "source": [
    "mpi_national = pd.read_csv('MPI_national.csv')\n",
    "mpi_subnation = pd.read_csv('MPI_subnational.csv')\n",
    "netflix = pd.read_csv('netflix_titles.csv')"
   ]
  },
  {
   "cell_type": "markdown",
   "metadata": {},
   "source": [
    "## Determining the Dimensions of Poverty"
   ]
  },
  {
   "cell_type": "markdown",
   "metadata": {},
   "source": [
    "### Which Country is having Highest Poverty in Urban Areas (Assuming MPI is used to measure Poverty index)"
   ]
  },
  {
   "cell_type": "code",
   "execution_count": 23,
   "metadata": {},
   "outputs": [
    {
     "data": {
      "text/html": [
       "<div>\n",
       "<style scoped>\n",
       "    .dataframe tbody tr th:only-of-type {\n",
       "        vertical-align: middle;\n",
       "    }\n",
       "\n",
       "    .dataframe tbody tr th {\n",
       "        vertical-align: top;\n",
       "    }\n",
       "\n",
       "    .dataframe thead th {\n",
       "        text-align: right;\n",
       "    }\n",
       "</style>\n",
       "<table border=\"1\" class=\"dataframe\">\n",
       "  <thead>\n",
       "    <tr style=\"text-align: right;\">\n",
       "      <th></th>\n",
       "      <th>ISO</th>\n",
       "      <th>Country</th>\n",
       "      <th>MPI Urban</th>\n",
       "      <th>Headcount Ratio Urban</th>\n",
       "      <th>Intensity of Deprivation Urban</th>\n",
       "      <th>MPI Rural</th>\n",
       "      <th>Headcount Ratio Rural</th>\n",
       "      <th>Intensity of Deprivation Rural</th>\n",
       "    </tr>\n",
       "  </thead>\n",
       "  <tbody>\n",
       "    <tr>\n",
       "      <th>101</th>\n",
       "      <td>SSD</td>\n",
       "      <td>South Sudan</td>\n",
       "      <td>0.459</td>\n",
       "      <td>82.5</td>\n",
       "      <td>55.7</td>\n",
       "      <td>0.591</td>\n",
       "      <td>94.0</td>\n",
       "      <td>62.8</td>\n",
       "    </tr>\n",
       "  </tbody>\n",
       "</table>\n",
       "</div>"
      ],
      "text/plain": [
       "     ISO      Country  MPI Urban  Headcount Ratio Urban  \\\n",
       "101  SSD  South Sudan      0.459                   82.5   \n",
       "\n",
       "     Intensity of Deprivation Urban  MPI Rural  Headcount Ratio Rural  \\\n",
       "101                            55.7      0.591                   94.0   \n",
       "\n",
       "     Intensity of Deprivation Rural  \n",
       "101                            62.8  "
      ]
     },
     "execution_count": 23,
     "metadata": {},
     "output_type": "execute_result"
    }
   ],
   "source": [
    "mpi_national = mpi_national.sort_values(by=['MPI Urban'],ascending=False)\n",
    "mpi_national.head(1)"
   ]
  },
  {
   "cell_type": "markdown",
   "metadata": {},
   "source": [
    "#### South Sudan is having poverty in Urban Areas"
   ]
  },
  {
   "cell_type": "markdown",
   "metadata": {},
   "source": [
    "### Which Country is having Highest and Lowest Population suffering from Poverty"
   ]
  },
  {
   "cell_type": "markdown",
   "metadata": {},
   "source": [
    "####  Population details are not present in the datset provided. Had the population data would have been present, then based on countries having highest & lowest population could have easily extracted poverty "
   ]
  },
  {
   "cell_type": "markdown",
   "metadata": {},
   "source": [
    "### What is the Intensity of Deprivation in Asian Countries."
   ]
  },
  {
   "cell_type": "code",
   "execution_count": 24,
   "metadata": {},
   "outputs": [
    {
     "data": {
      "text/html": [
       "<div>\n",
       "<style scoped>\n",
       "    .dataframe tbody tr th:only-of-type {\n",
       "        vertical-align: middle;\n",
       "    }\n",
       "\n",
       "    .dataframe tbody tr th {\n",
       "        vertical-align: top;\n",
       "    }\n",
       "\n",
       "    .dataframe thead th {\n",
       "        text-align: right;\n",
       "    }\n",
       "</style>\n",
       "<table border=\"1\" class=\"dataframe\">\n",
       "  <thead>\n",
       "    <tr style=\"text-align: right;\">\n",
       "      <th></th>\n",
       "      <th>Country</th>\n",
       "      <th>Intensity of deprivation Regional</th>\n",
       "    </tr>\n",
       "  </thead>\n",
       "  <tbody>\n",
       "    <tr>\n",
       "      <th>13</th>\n",
       "      <td>Timor-Leste</td>\n",
       "      <td>52.300000</td>\n",
       "    </tr>\n",
       "    <tr>\n",
       "      <th>0</th>\n",
       "      <td>Afghanistan</td>\n",
       "      <td>51.908824</td>\n",
       "    </tr>\n",
       "    <tr>\n",
       "      <th>10</th>\n",
       "      <td>Pakistan</td>\n",
       "      <td>50.766667</td>\n",
       "    </tr>\n",
       "    <tr>\n",
       "      <th>6</th>\n",
       "      <td>Lao People's Democratic Republic</td>\n",
       "      <td>49.105882</td>\n",
       "    </tr>\n",
       "    <tr>\n",
       "      <th>11</th>\n",
       "      <td>Philippines</td>\n",
       "      <td>47.547059</td>\n",
       "    </tr>\n",
       "  </tbody>\n",
       "</table>\n",
       "</div>"
      ],
      "text/plain": [
       "                             Country  Intensity of deprivation Regional\n",
       "13                       Timor-Leste                          52.300000\n",
       "0                        Afghanistan                          51.908824\n",
       "10                          Pakistan                          50.766667\n",
       "6   Lao People's Democratic Republic                          49.105882\n",
       "11                       Philippines                          47.547059"
      ]
     },
     "execution_count": 24,
     "metadata": {},
     "output_type": "execute_result"
    }
   ],
   "source": [
    "asian_countries = mpi_subnation[mpi_subnation['World region'].isin(['East Asia and the Pacific','South Asia','Europe and Central Asia'])]\n",
    "asian_countries = asian_countries[['Country','Intensity of deprivation Regional']]\n",
    "asian_countries = asian_countries.groupby('Country').mean()\n",
    "asian_countries = asian_countries.reset_index()\n",
    "asian_countries.sort_values(by=['Intensity of deprivation Regional'], inplace=True,ascending=False)\n",
    "\n",
    "asian_countries.head() # Showing data for only top 6 countries. But extracted for all"
   ]
  },
  {
   "cell_type": "markdown",
   "metadata": {},
   "source": [
    "### Which 10 Countries are the Poorest Countries"
   ]
  },
  {
   "cell_type": "code",
   "execution_count": 25,
   "metadata": {},
   "outputs": [
    {
     "data": {
      "text/html": [
       "<div>\n",
       "<style scoped>\n",
       "    .dataframe tbody tr th:only-of-type {\n",
       "        vertical-align: middle;\n",
       "    }\n",
       "\n",
       "    .dataframe tbody tr th {\n",
       "        vertical-align: top;\n",
       "    }\n",
       "\n",
       "    .dataframe thead th {\n",
       "        text-align: right;\n",
       "    }\n",
       "</style>\n",
       "<table border=\"1\" class=\"dataframe\">\n",
       "  <thead>\n",
       "    <tr style=\"text-align: right;\">\n",
       "      <th></th>\n",
       "      <th>Country</th>\n",
       "      <th>MPI National</th>\n",
       "    </tr>\n",
       "  </thead>\n",
       "  <tbody>\n",
       "    <tr>\n",
       "      <th>53</th>\n",
       "      <td>Niger</td>\n",
       "      <td>0.605</td>\n",
       "    </tr>\n",
       "    <tr>\n",
       "      <th>24</th>\n",
       "      <td>Ethiopia</td>\n",
       "      <td>0.564</td>\n",
       "    </tr>\n",
       "    <tr>\n",
       "      <th>62</th>\n",
       "      <td>South Sudan</td>\n",
       "      <td>0.557</td>\n",
       "    </tr>\n",
       "    <tr>\n",
       "      <th>12</th>\n",
       "      <td>Chad</td>\n",
       "      <td>0.552</td>\n",
       "    </tr>\n",
       "    <tr>\n",
       "      <th>7</th>\n",
       "      <td>Burkina Faso</td>\n",
       "      <td>0.535</td>\n",
       "    </tr>\n",
       "    <tr>\n",
       "      <th>61</th>\n",
       "      <td>Sierra Leone</td>\n",
       "      <td>0.464</td>\n",
       "    </tr>\n",
       "    <tr>\n",
       "      <th>29</th>\n",
       "      <td>Guinea</td>\n",
       "      <td>0.459</td>\n",
       "    </tr>\n",
       "    <tr>\n",
       "      <th>44</th>\n",
       "      <td>Mali</td>\n",
       "      <td>0.457</td>\n",
       "    </tr>\n",
       "    <tr>\n",
       "      <th>8</th>\n",
       "      <td>Burundi</td>\n",
       "      <td>0.454</td>\n",
       "    </tr>\n",
       "    <tr>\n",
       "      <th>11</th>\n",
       "      <td>Central African Republic</td>\n",
       "      <td>0.430</td>\n",
       "    </tr>\n",
       "  </tbody>\n",
       "</table>\n",
       "</div>"
      ],
      "text/plain": [
       "                     Country  MPI National\n",
       "53                     Niger         0.605\n",
       "24                  Ethiopia         0.564\n",
       "62               South Sudan         0.557\n",
       "12                      Chad         0.552\n",
       "7               Burkina Faso         0.535\n",
       "61              Sierra Leone         0.464\n",
       "29                    Guinea         0.459\n",
       "44                      Mali         0.457\n",
       "8                    Burundi         0.454\n",
       "11  Central African Republic         0.430"
      ]
     },
     "execution_count": 25,
     "metadata": {},
     "output_type": "execute_result"
    }
   ],
   "source": [
    "mpi_subnation = mpi_subnation.sort_values(by=['MPI Regional'],ascending=False)\n",
    "poorest_countries = mpi_subnation[['Country','MPI National']]\n",
    "poorest_countries = poorest_countries.groupby('Country').mean()\n",
    "poorest_countries = poorest_countries.reset_index()\n",
    "poorest_countries.sort_values(by=['MPI National'], inplace=True,ascending=False)\n",
    "\n",
    "poorest_countries.head(10) # Showing data for only top 10 countries. But extracted for all"
   ]
  },
  {
   "cell_type": "markdown",
   "metadata": {},
   "source": [
    "###  Which Countries’ Rural Population is having highest Poverty Index in the World"
   ]
  },
  {
   "cell_type": "code",
   "execution_count": 26,
   "metadata": {},
   "outputs": [
    {
     "data": {
      "text/html": [
       "<div>\n",
       "<style scoped>\n",
       "    .dataframe tbody tr th:only-of-type {\n",
       "        vertical-align: middle;\n",
       "    }\n",
       "\n",
       "    .dataframe tbody tr th {\n",
       "        vertical-align: top;\n",
       "    }\n",
       "\n",
       "    .dataframe thead th {\n",
       "        text-align: right;\n",
       "    }\n",
       "</style>\n",
       "<table border=\"1\" class=\"dataframe\">\n",
       "  <thead>\n",
       "    <tr style=\"text-align: right;\">\n",
       "      <th></th>\n",
       "      <th>ISO</th>\n",
       "      <th>Country</th>\n",
       "      <th>MPI Urban</th>\n",
       "      <th>Headcount Ratio Urban</th>\n",
       "      <th>Intensity of Deprivation Urban</th>\n",
       "      <th>MPI Rural</th>\n",
       "      <th>Headcount Ratio Rural</th>\n",
       "      <th>Intensity of Deprivation Rural</th>\n",
       "    </tr>\n",
       "  </thead>\n",
       "  <tbody>\n",
       "    <tr>\n",
       "      <th>96</th>\n",
       "      <td>NER</td>\n",
       "      <td>Niger</td>\n",
       "      <td>0.276</td>\n",
       "      <td>53.9</td>\n",
       "      <td>51.2</td>\n",
       "      <td>0.669</td>\n",
       "      <td>96.19</td>\n",
       "      <td>69.5</td>\n",
       "    </tr>\n",
       "  </tbody>\n",
       "</table>\n",
       "</div>"
      ],
      "text/plain": [
       "    ISO Country  MPI Urban  Headcount Ratio Urban  \\\n",
       "96  NER   Niger      0.276                   53.9   \n",
       "\n",
       "    Intensity of Deprivation Urban  MPI Rural  Headcount Ratio Rural  \\\n",
       "96                            51.2      0.669                  96.19   \n",
       "\n",
       "    Intensity of Deprivation Rural  \n",
       "96                            69.5  "
      ]
     },
     "execution_count": 26,
     "metadata": {},
     "output_type": "execute_result"
    }
   ],
   "source": [
    "mpi_national = mpi_national.sort_values(by=['MPI Rural'],ascending=False)\n",
    "mpi_national.head(1)"
   ]
  },
  {
   "cell_type": "markdown",
   "metadata": {},
   "source": [
    "#### Niger is having highest poverty index is rural population (0.669)"
   ]
  },
  {
   "cell_type": "markdown",
   "metadata": {},
   "source": [
    "### Analyzing Poverty in Afghanistan"
   ]
  },
  {
   "cell_type": "code",
   "execution_count": 27,
   "metadata": {},
   "outputs": [],
   "source": [
    "mpi_subnation = mpi_subnation.reset_index()\n",
    "del mpi_subnation['index']\n",
    "afg = mpi_subnation[mpi_subnation['ISO country code']=='AFG']"
   ]
  },
  {
   "cell_type": "code",
   "execution_count": 28,
   "metadata": {},
   "outputs": [
    {
     "data": {
      "text/html": [
       "<div>\n",
       "<style scoped>\n",
       "    .dataframe tbody tr th:only-of-type {\n",
       "        vertical-align: middle;\n",
       "    }\n",
       "\n",
       "    .dataframe tbody tr th {\n",
       "        vertical-align: top;\n",
       "    }\n",
       "\n",
       "    .dataframe thead th {\n",
       "        text-align: right;\n",
       "    }\n",
       "</style>\n",
       "<table border=\"1\" class=\"dataframe\">\n",
       "  <thead>\n",
       "    <tr style=\"text-align: right;\">\n",
       "      <th></th>\n",
       "      <th>Sub-national region</th>\n",
       "      <th>MPI Regional</th>\n",
       "    </tr>\n",
       "  </thead>\n",
       "  <tbody>\n",
       "    <tr>\n",
       "      <th>25</th>\n",
       "      <td>Urozgan</td>\n",
       "      <td>0.624</td>\n",
       "    </tr>\n",
       "    <tr>\n",
       "      <th>27</th>\n",
       "      <td>Nooristan</td>\n",
       "      <td>0.611</td>\n",
       "    </tr>\n",
       "    <tr>\n",
       "      <th>126</th>\n",
       "      <td>Badghis</td>\n",
       "      <td>0.466</td>\n",
       "    </tr>\n",
       "    <tr>\n",
       "      <th>150</th>\n",
       "      <td>Kandahar</td>\n",
       "      <td>0.437</td>\n",
       "    </tr>\n",
       "    <tr>\n",
       "      <th>201</th>\n",
       "      <td>Badakhshan</td>\n",
       "      <td>0.387</td>\n",
       "    </tr>\n",
       "  </tbody>\n",
       "</table>\n",
       "</div>"
      ],
      "text/plain": [
       "    Sub-national region  MPI Regional\n",
       "25              Urozgan         0.624\n",
       "27            Nooristan         0.611\n",
       "126             Badghis         0.466\n",
       "150            Kandahar         0.437\n",
       "201          Badakhshan         0.387"
      ]
     },
     "execution_count": 28,
     "metadata": {},
     "output_type": "execute_result"
    }
   ],
   "source": [
    "#MPI Regional of Afganistan\n",
    "afg_mpi_reg = afg[['Sub-national region','MPI Regional']]\n",
    "afg_mpi_reg. head()"
   ]
  },
  {
   "cell_type": "code",
   "execution_count": 29,
   "metadata": {},
   "outputs": [
    {
     "data": {
      "text/plain": [
       "<matplotlib.axes._subplots.AxesSubplot at 0x15cf6cdfe88>"
      ]
     },
     "execution_count": 29,
     "metadata": {},
     "output_type": "execute_result"
    },
    {
     "data": {
      "image/png": "[encoded data removed]",
      "text/plain": [
       "<Figure size 720x720 with 1 Axes>"
      ]
     },
     "metadata": {
      "needs_background": "light"
     },
     "output_type": "display_data"
    }
   ],
   "source": [
    "afg_mpi_reg.plot(x=\"Sub-national region\", y='MPI Regional', kind=\"bar\",figsize=(10,10))"
   ]
  },
  {
   "cell_type": "code",
   "execution_count": 30,
   "metadata": {},
   "outputs": [
    {
     "data": {
      "text/html": [
       "<div>\n",
       "<style scoped>\n",
       "    .dataframe tbody tr th:only-of-type {\n",
       "        vertical-align: middle;\n",
       "    }\n",
       "\n",
       "    .dataframe tbody tr th {\n",
       "        vertical-align: top;\n",
       "    }\n",
       "\n",
       "    .dataframe thead th {\n",
       "        text-align: right;\n",
       "    }\n",
       "</style>\n",
       "<table border=\"1\" class=\"dataframe\">\n",
       "  <thead>\n",
       "    <tr style=\"text-align: right;\">\n",
       "      <th></th>\n",
       "      <th>Sub-national region</th>\n",
       "      <th>Headcount Ratio Regional</th>\n",
       "    </tr>\n",
       "  </thead>\n",
       "  <tbody>\n",
       "    <tr>\n",
       "      <th>25</th>\n",
       "      <td>Urozgan</td>\n",
       "      <td>94.5</td>\n",
       "    </tr>\n",
       "    <tr>\n",
       "      <th>27</th>\n",
       "      <td>Nooristan</td>\n",
       "      <td>93.7</td>\n",
       "    </tr>\n",
       "    <tr>\n",
       "      <th>126</th>\n",
       "      <td>Badghis</td>\n",
       "      <td>79.3</td>\n",
       "    </tr>\n",
       "    <tr>\n",
       "      <th>150</th>\n",
       "      <td>Kandahar</td>\n",
       "      <td>72.1</td>\n",
       "    </tr>\n",
       "    <tr>\n",
       "      <th>201</th>\n",
       "      <td>Badakhshan</td>\n",
       "      <td>67.5</td>\n",
       "    </tr>\n",
       "  </tbody>\n",
       "</table>\n",
       "</div>"
      ],
      "text/plain": [
       "    Sub-national region  Headcount Ratio Regional\n",
       "25              Urozgan                      94.5\n",
       "27            Nooristan                      93.7\n",
       "126             Badghis                      79.3\n",
       "150            Kandahar                      72.1\n",
       "201          Badakhshan                      67.5"
      ]
     },
     "execution_count": 30,
     "metadata": {},
     "output_type": "execute_result"
    }
   ],
   "source": [
    "#Head Count Ratio Regional of Afganistan\n",
    "afg_head_ratio = afg[['Sub-national region','Headcount Ratio Regional']]\n",
    "afg_head_ratio.head()"
   ]
  },
  {
   "cell_type": "code",
   "execution_count": 31,
   "metadata": {},
   "outputs": [
    {
     "data": {
      "text/plain": [
       "<matplotlib.axes._subplots.AxesSubplot at 0x15cf75c6788>"
      ]
     },
     "execution_count": 31,
     "metadata": {},
     "output_type": "execute_result"
    },
    {
     "data": {
      "image/png": "[encoded data removed]",
      "text/plain": [
       "<Figure size 720x720 with 1 Axes>"
      ]
     },
     "metadata": {
      "needs_background": "light"
     },
     "output_type": "display_data"
    }
   ],
   "source": [
    "afg_head_ratio.plot(x=\"Sub-national region\", y='Headcount Ratio Regional', kind=\"bar\",figsize=(10,10))"
   ]
  },
  {
   "cell_type": "markdown",
   "metadata": {},
   "source": [
    "### What is the Difference between India and Afghanistan in terms of Poverty Index."
   ]
  },
  {
   "cell_type": "code",
   "execution_count": 32,
   "metadata": {},
   "outputs": [],
   "source": [
    "afg = mpi_national[mpi_national['ISO']=='AFG']\n",
    "ind = mpi_national[mpi_national['ISO']=='IND']"
   ]
  },
  {
   "cell_type": "code",
   "execution_count": 19,
   "metadata": {},
   "outputs": [],
   "source": [
    "#### MPI Urban of India - 0.064\n",
    "#### MPI Urban of Afganistan - 0.132\n",
    "\n",
    "#### Headcount Ratio Urban of India - 14.8\n",
    "#### Headcount Ratio Urban of Afganistan - 25.8\n",
    "\n",
    "#### Intensity of Deprivation Urban of India - 43.3\n",
    "#### Intensity of Deprivation Urban of Afganistan - 45.8\n",
    "\n",
    "#### MPI Rural of India - 0.25\n",
    "#### MPI Rural of Afganistan - 0.347\n",
    "\n",
    "#### Headcount Ratio Rural of India - 53.49\n",
    "#### Headcount Ratio Rural of Afganistan - 64.66\n",
    "\n",
    "#### Intensity of Deprivation Rural of India - 46.7\n",
    "#### Intensity of Deprivation Rural of Afganistan - 53.6"
   ]
  },
  {
   "cell_type": "code",
   "execution_count": null,
   "metadata": {},
   "outputs": [],
   "source": []
  }
 ],
 "metadata": {
  "kernelspec": {
   "display_name": "Python 3",
   "language": "python",
   "name": "python3"
  },
  "language_info": {
   "codemirror_mode": {
    "name": "ipython",
    "version": 3
   },
   "file_extension": ".py",
   "mimetype": "text/x-python",
   "name": "python",
   "nbconvert_exporter": "python",
   "pygments_lexer": "ipython3",
   "version": "3.7.5"
  }
 },
 "nbformat": 4,
 "nbformat_minor": 2
}
